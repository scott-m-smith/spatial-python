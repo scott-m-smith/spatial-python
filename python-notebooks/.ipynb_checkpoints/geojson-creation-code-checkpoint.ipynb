{
 "cells": [
  {
   "cell_type": "markdown",
   "id": "bff235eb-bb69-4611-a8ae-18afc9c24401",
   "metadata": {},
   "source": [
    "### File Conversion: Geodatabase to GeoJSON\n",
    "*Purpose*: Conversion of Census Tiger/LINE geodatabases file to compressed GeoJSON files\n"
   ]
  },
  {
   "cell_type": "code",
   "execution_count": null,
   "id": "fb591fd0-2165-4a05-835a-a6ffd95955be",
   "metadata": {},
   "outputs": [],
   "source": [
    "# !pip install pandas\n",
    "# !pip install geopandas\n",
    "# !pip install fiona\n",
    "# !pip install matplotlib\n",
    "# !pip install zipfile"
   ]
  },
  {
   "cell_type": "code",
   "execution_count": 1,
   "id": "5666020e-f4ea-42f2-89ca-feeb2fab0030",
   "metadata": {},
   "outputs": [],
   "source": [
    "import pandas as pd\n",
    "import geopandas as gpd\n",
    "import fiona\n",
    "import matplotlib\n",
    "import matplotlib.pyplot as plt\n",
    "import zipfile\n",
    "import os"
   ]
  },
  {
   "cell_type": "markdown",
   "id": "505297f3-0926-4a04-b84d-0a7f217d2286",
   "metadata": {},
   "source": [
    "`out_dir`:  Location of final output directory \\\n",
    "`geodb_fl`: File geodatabase containing [National Sub-State Geography](https://www2.census.gov/geo/tiger/TGRGDB22/tlgdb_2022_a_us_substategeo.gdb.zip) data"
   ]
  },
  {
   "cell_type": "code",
   "execution_count": 2,
   "id": "0f4abbf9-329c-4270-85b8-3b9ea74e3cc3",
   "metadata": {},
   "outputs": [
    {
     "name": "stdout",
     "output_type": "stream",
     "text": [
      "Layer Name: Incorporated_Place\n",
      "Layer Name: County\n",
      "Layer Name: Census_Designated_Place\n",
      "Layer Name: Census_Tract\n",
      "Layer Name: Consolidated_City\n",
      "Layer Name: County_Subdivision\n",
      "Layer Name: State\n",
      "Layer Name: Block_Group\n"
     ]
    }
   ],
   "source": [
    "# out_dir = r\"<file-path>/output/\"\n",
    "# geodb_fl = r\"<file-path>/tlgdb_2021_a_us_substategeo.gdb\"\n",
    "\n",
    "out_dir = r\"/Users/sctmsmth/local_documents/code/geo/projects/geojson/geojson-creation/output/\"\n",
    "geodb_fl = r\"/Users/sctmsmth/local_documents/code/geo/data/tiger/tlgdb_2021_a_us_substategeo.gdb\"\n",
    "\n",
    "# Print available features\n",
    "layers = fiona.listlayers(geodb_fl)\n",
    "for l in layers:\n",
    "    print(\"Layer Name: \" + l)"
   ]
  },
  {
   "cell_type": "code",
   "execution_count": 3,
   "id": "05733a54-64b1-4396-b044-ed9ce324ecf4",
   "metadata": {},
   "outputs": [
    {
     "name": "stdout",
     "output_type": "stream",
     "text": [
      "Creating .geojson file for: State\n",
      "Creating .zip archive of: State\n",
      "Removing .geojson file: State\n"
     ]
    }
   ],
   "source": [
    "# For each layer in the geodatabase, write to .geojson, then compress (.zip).\n",
    "# Delete orginal .geojson file.\n",
    "\n",
    "for l in layers:\n",
    "    if l == \"State\":\n",
    "        layer = gpd.read_file(geodb_fl, layer=l)\n",
    "        print(\"Creating .geojson file for: \" + l)\n",
    "        layer.to_file(out_dir + l + \".geojson\", driver=\"GeoJSON\")\n",
    "\n",
    "        print(\"Creating .zip archive of: \" + l)\n",
    "        with zipfile.ZipFile(out_dir + l + \".zip\", compression=zipfile.ZIP_DEFLATED, mode = \"w\") as zf:\n",
    "            zf.write(out_dir + l + \".geojson\", arcname = l + \".geojson\")\n",
    "        \n",
    "        print(\"Removing .geojson file: \" + l)\n",
    "        os.remove(out_dir + l + \".geojson\")"
   ]
  },
  {
   "cell_type": "markdown",
   "id": "7fc8fd95-6ae4-4049-8da5-cc96e2d4272f",
   "metadata": {},
   "source": [
    "### Read compressed GeoJSON files and plot"
   ]
  },
  {
   "cell_type": "code",
   "execution_count": 4,
   "id": "6c80ea53-cb97-425c-8e9b-ac4b2e70ecb3",
   "metadata": {},
   "outputs": [],
   "source": [
    "\n",
    "fl_st = gpd.read_file(out_dir + \"State.zip!State.geojson\")\n",
    "fl_cnty = gpd.read_file(out_dir + \"County.zip!County.geojson\")"
   ]
  },
  {
   "cell_type": "code",
   "execution_count": null,
   "id": "d04267ca-2d66-4653-a844-72fbc172f0b0",
   "metadata": {},
   "outputs": [],
   "source": [
    "# Calculate new statistics\n",
    "fl_cnty['per_water'] = fl_cnty.AWATER + (fl_cnty.ALAND + fl_cnty.AWATER)"
   ]
  },
  {
   "cell_type": "code",
   "execution_count": null,
   "id": "87150ae4-838d-4af8-9229-bc07aae8a483",
   "metadata": {},
   "outputs": [],
   "source": [
    "srnd_st = fl_st.query(\"STUSPS in  ('OH','PA','IN','WV','KY')\")\n",
    "oh_cnty = fl_cnty[fl_cnty.GEOID.str.startswith('39')]"
   ]
  },
  {
   "cell_type": "code",
   "execution_count": null,
   "id": "373cd1a3-f5e7-49f4-97db-6e34a578bc9d",
   "metadata": {},
   "outputs": [],
   "source": [
    "oh_cnty.plot(column='per_water')"
   ]
  },
  {
   "cell_type": "code",
   "execution_count": null,
   "id": "ca6a6a36-82a1-410f-8453-1ac7e6269bdc",
   "metadata": {},
   "outputs": [],
   "source": [
    "base = srnd_st.plot(edgecolor='gray', color='darkgray')\n",
    "oh_cnty.plot(ax=base, edgecolor='white',column='per_water', legend = True)"
   ]
  }
 ],
 "metadata": {
  "kernelspec": {
   "display_name": "Python 3 (ipykernel)",
   "language": "python",
   "name": "python3"
  },
  "language_info": {
   "codemirror_mode": {
    "name": "ipython",
    "version": 3
   },
   "file_extension": ".py",
   "mimetype": "text/x-python",
   "name": "python",
   "nbconvert_exporter": "python",
   "pygments_lexer": "ipython3",
   "version": "3.10.8"
  }
 },
 "nbformat": 4,
 "nbformat_minor": 5
}
