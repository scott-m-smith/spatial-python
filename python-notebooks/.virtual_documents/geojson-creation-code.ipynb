# !pip install pandas
# !pip install geopandas
# !pip install fiona
# !pip install matplotlib
# !pip install zipfile


import pandas as pd
import geopandas as gpd
import fiona
import matplotlib
import matplotlib.pyplot as plt
import zipfile
import os


out_dir = r"<file-path>/output/"
geodb_fl = r"<file-path>/tlgdb_2021_a_us_substategeo.gdb"

# Print available features
layers = fiona.listlayers(geodb_fl)
for l in layers:
    print("Layer Name: " + l)


# For each layer in the geodatabase, write to .geojson, then compress (.zip).
# Delete orginal .geojson file.

for l in layers:
    if l == "State":
        layer = gpd.read_file(geodb_fl, layer=l)
        print("Creating .geojson file for: " + l)
        layer.to_file(out_dir + l + ".geojson", driver="GeoJSON")

        print("Creating .zip archive of: " + l)
        with zipfile.ZipFile(out_dir + l + ".zip", compression=zipfile.ZIP_DEFLATED, mode = "w") as zf:
            zf.write(out_dir + l + ".geojson", arcname = l + ".geojson")
        
        print("Removing .geojson file: " + l)
        os.remove(out_dir + l + ".geojson")


# Create GeoDataFrames from GeoJSON archive files
fl_st = gpd.read_file(out_dir + "State.zip!State.geojson")
fl_cnty = gpd.read_file(out_dir + "County.zip!County.geojson")


# Demonstration of calculating new column in GeoDataFrame
print("## Before calculation ##")
print(fl_cnty.dtypes)
fl_cnty['per_water'] = fl_cnty.AWATER + (fl_cnty.ALAND + fl_cnty.AWATER)
print("## After calculation ##")
print(fl_cnty.dtypes)


# Querying and subsetting GeoDataFrames
srnd_st = fl_st.query("STUSPS in  ('OH','PA','IN','WV','KY')")
oh_cnty = fl_cnty[fl_cnty.GEOID.str.startswith('39')]


# Plot Ohio counties symbolized on county's area percent water
oh_cnty.plot(column='per_water')


# Add legend and surrounding states for more context and completeness
base = srnd_st.plot(edgecolor='gray', color='darkgray')
oh_cnty.plot(ax=base, edgecolor='white',column='per_water', legend = True)



