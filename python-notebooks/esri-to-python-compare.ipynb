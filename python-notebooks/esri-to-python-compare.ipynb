{
 "cells": [
  {
   "cell_type": "code",
   "execution_count": 1,
   "id": "2be3ca98-1ed1-42b6-bf0c-e43754cbc6db",
   "metadata": {},
   "outputs": [],
   "source": [
    "import pandas as pd\n",
    "import geopandas as gpd\n",
    "import pygeos"
   ]
  },
  {
   "cell_type": "code",
   "execution_count": 2,
   "id": "1fd43f99-a2b6-43bb-9262-321473d2be1e",
   "metadata": {},
   "outputs": [],
   "source": [
    "# Link to shapefiles\n",
    "\n",
    "fl_oh_ct=\"/Users/sctmsmth/local_documents/code/geo/data/tiger/census_shpfl/oh_census_tracts/tl_2021_39_tract.shp\"\n",
    "fl_oh_mines=\"/Users/sctmsmth/local_documents/code/geo/data/Surf_Mines/Surf_Mines.shp\""
   ]
  },
  {
   "cell_type": "code",
   "execution_count": 3,
   "id": "2407390e-c332-454f-83c9-78af1ac4fe88",
   "metadata": {},
   "outputs": [],
   "source": [
    "# Create Geopandas GeoDataframes\n",
    "\n",
    "shp_oh_ct=gpd.read_file(fl_oh_ct)\n",
    "shp_oh_mines=gpd.read_file(fl_oh_mines)"
   ]
  },
  {
   "cell_type": "code",
   "execution_count": 4,
   "id": "cd6a1bde-05ae-4378-b703-8e8426cf8d37",
   "metadata": {},
   "outputs": [],
   "source": [
    "# Modify GeoDataframes to include only required columns\n",
    "\n",
    "col_oh_ct=['STATEFP', 'COUNTYFP', 'TRACTCE','GEOID','geometry']\n",
    "col_oh_mines=['Site_ID', 'Pub_Year', 'geometry']\n",
    "shp_oh_ct=shp_oh_ct[col_oh_ct]\n",
    "shp_oh_mines=shp_oh_mines[col_oh_mines]"
   ]
  },
  {
   "cell_type": "code",
   "execution_count": 5,
   "id": "1c993cf3-bf22-43fd-9043-abe21a9487a3",
   "metadata": {},
   "outputs": [
    {
     "name": "stdout",
     "output_type": "stream",
     "text": [
      "Ohio Census Tracts - Columns\n",
      "Index(['STATEFP', 'COUNTYFP', 'TRACTCE', 'GEOID', 'geometry'], dtype='object')\n",
      "\n",
      "Ohio Surface Mines - Columns\n",
      "Index(['Site_ID', 'Pub_Year', 'geometry'], dtype='object')\n"
     ]
    }
   ],
   "source": [
    "# Confirm Columns of each GeoDataframe\n",
    "\n",
    "print(\"Ohio Census Tracts - Columns\")\n",
    "print(shp_oh_ct.columns)\n",
    "print(\"\\nOhio Surface Mines - Columns\")\n",
    "print(shp_oh_mines.columns)"
   ]
  },
  {
   "cell_type": "code",
   "execution_count": 6,
   "id": "10c4e6bc-eaca-412d-818e-271ed23cd1b8",
   "metadata": {},
   "outputs": [
    {
     "name": "stdout",
     "output_type": "stream",
     "text": [
      "Ohio Census Tract CRS:  epsg:4269\n",
      "Ohio Surface Mines CRS: epsg:3735\n",
      "\n",
      "!! CRS not equal: Conversion required !!\n"
     ]
    }
   ],
   "source": [
    "# Compare coordinate reference system (CRS) of each Geodataframe\n",
    "\n",
    "print(\"Ohio Census Tract CRS:  \" + str(shp_oh_ct.crs))\n",
    "print(\"Ohio Surface Mines CRS: \" + str(shp_oh_mines.crs))\n",
    "\n",
    "if (shp_oh_ct.crs == shp_oh_mines.crs):\n",
    "    print(\"CRS are equal\")\n",
    "else:\n",
    "    print(\"\\n!! CRS not equal: Conversion required !!\")"
   ]
  },
  {
   "cell_type": "code",
   "execution_count": 7,
   "id": "4b514176-36aa-4637-b3c0-f63feda2bceb",
   "metadata": {},
   "outputs": [
    {
     "name": "stdout",
     "output_type": "stream",
     "text": [
      "Ohio Census Tract CRS:  epsg:4269\n",
      "Ohio Surface Mines CRS: epsg:4269\n",
      "\n",
      "CRS are equal\n"
     ]
    }
   ],
   "source": [
    "# Convert Ohio Surface Mines CRS to Census Tract CRS\n",
    "\n",
    "shp_oh_mines=shp_oh_mines.to_crs(shp_oh_ct.crs)\n",
    "\n",
    "print(\"Ohio Census Tract CRS:  \" + str(shp_oh_ct.crs))\n",
    "print(\"Ohio Surface Mines CRS: \" + str(shp_oh_mines.crs))\n",
    "\n",
    "if (shp_oh_ct.crs == shp_oh_mines.crs):\n",
    "    print(\"\\nCRS are equal\")\n",
    "else:\n",
    "    print(\"\\n!! CRS not equal: Conversion required !!\")"
   ]
  },
  {
   "cell_type": "code",
   "execution_count": 8,
   "id": "e4565024-634b-4778-9535-ab17ef3d5ea4",
   "metadata": {},
   "outputs": [
    {
     "data": {
      "text/html": [
       "<div>\n",
       "<style scoped>\n",
       "    .dataframe tbody tr th:only-of-type {\n",
       "        vertical-align: middle;\n",
       "    }\n",
       "\n",
       "    .dataframe tbody tr th {\n",
       "        vertical-align: top;\n",
       "    }\n",
       "\n",
       "    .dataframe thead th {\n",
       "        text-align: right;\n",
       "    }\n",
       "</style>\n",
       "<table border=\"1\" class=\"dataframe\">\n",
       "  <thead>\n",
       "    <tr style=\"text-align: right;\">\n",
       "      <th></th>\n",
       "      <th>Site_ID</th>\n",
       "      <th>Pub_Year</th>\n",
       "      <th>geometry</th>\n",
       "      <th>index_right</th>\n",
       "      <th>STATEFP</th>\n",
       "      <th>COUNTYFP</th>\n",
       "      <th>TRACTCE</th>\n",
       "      <th>GEOID</th>\n",
       "    </tr>\n",
       "  </thead>\n",
       "  <tbody>\n",
       "    <tr>\n",
       "      <th>0</th>\n",
       "      <td>1244</td>\n",
       "      <td>1968</td>\n",
       "      <td>POLYGON ((-82.56404 38.49023, -82.56418 38.490...</td>\n",
       "      <td>2778.0</td>\n",
       "      <td>39</td>\n",
       "      <td>087</td>\n",
       "      <td>051002</td>\n",
       "      <td>39087051002</td>\n",
       "    </tr>\n",
       "    <tr>\n",
       "      <th>1</th>\n",
       "      <td>1259</td>\n",
       "      <td>1968</td>\n",
       "      <td>POLYGON ((-82.36211 38.59138, -82.36303 38.591...</td>\n",
       "      <td>2308.0</td>\n",
       "      <td>39</td>\n",
       "      <td>087</td>\n",
       "      <td>050502</td>\n",
       "      <td>39087050502</td>\n",
       "    </tr>\n",
       "    <tr>\n",
       "      <th>2</th>\n",
       "      <td>11</td>\n",
       "      <td>1983</td>\n",
       "      <td>POLYGON ((-82.56285 38.48686, -82.56298 38.486...</td>\n",
       "      <td>2778.0</td>\n",
       "      <td>39</td>\n",
       "      <td>087</td>\n",
       "      <td>051002</td>\n",
       "      <td>39087051002</td>\n",
       "    </tr>\n",
       "    <tr>\n",
       "      <th>3</th>\n",
       "      <td>3</td>\n",
       "      <td>1983</td>\n",
       "      <td>POLYGON ((-82.56703 38.41119, -82.56784 38.411...</td>\n",
       "      <td>2777.0</td>\n",
       "      <td>39</td>\n",
       "      <td>087</td>\n",
       "      <td>051001</td>\n",
       "      <td>39087051001</td>\n",
       "    </tr>\n",
       "    <tr>\n",
       "      <th>4</th>\n",
       "      <td>1245</td>\n",
       "      <td>1961</td>\n",
       "      <td>POLYGON ((-82.65960 38.56116, -82.65902 38.560...</td>\n",
       "      <td>2774.0</td>\n",
       "      <td>39</td>\n",
       "      <td>087</td>\n",
       "      <td>050800</td>\n",
       "      <td>39087050800</td>\n",
       "    </tr>\n",
       "  </tbody>\n",
       "</table>\n",
       "</div>"
      ],
      "text/plain": [
       "  Site_ID  Pub_Year                                           geometry  \\\n",
       "0    1244      1968  POLYGON ((-82.56404 38.49023, -82.56418 38.490...   \n",
       "1    1259      1968  POLYGON ((-82.36211 38.59138, -82.36303 38.591...   \n",
       "2      11      1983  POLYGON ((-82.56285 38.48686, -82.56298 38.486...   \n",
       "3       3      1983  POLYGON ((-82.56703 38.41119, -82.56784 38.411...   \n",
       "4    1245      1961  POLYGON ((-82.65960 38.56116, -82.65902 38.560...   \n",
       "\n",
       "   index_right STATEFP COUNTYFP TRACTCE        GEOID  \n",
       "0       2778.0      39      087  051002  39087051002  \n",
       "1       2308.0      39      087  050502  39087050502  \n",
       "2       2778.0      39      087  051002  39087051002  \n",
       "3       2777.0      39      087  051001  39087051001  \n",
       "4       2774.0      39      087  050800  39087050800  "
      ]
     },
     "execution_count": 8,
     "metadata": {},
     "output_type": "execute_result"
    }
   ],
   "source": [
    "# Perform Spatial Join Census Tracts that intersect Surface Mine Boundaries\n",
    "\n",
    "mines_sjoin_ct=gpd.sjoin(shp_oh_mines,shp_oh_ct,how=\"left\",predicate=\"intersects\")\n",
    "mines_sjoin_ct.head()"
   ]
  },
  {
   "cell_type": "code",
   "execution_count": null,
   "id": "b69de231-cee5-49a2-bd13-0fa8dbd33dd7",
   "metadata": {},
   "outputs": [],
   "source": []
  }
 ],
 "metadata": {
  "kernelspec": {
   "display_name": "Python 3 (ipykernel)",
   "language": "python",
   "name": "python3"
  },
  "language_info": {
   "codemirror_mode": {
    "name": "ipython",
    "version": 3
   },
   "file_extension": ".py",
   "mimetype": "text/x-python",
   "name": "python",
   "nbconvert_exporter": "python",
   "pygments_lexer": "ipython3",
   "version": "3.10.8"
  }
 },
 "nbformat": 4,
 "nbformat_minor": 5
}
